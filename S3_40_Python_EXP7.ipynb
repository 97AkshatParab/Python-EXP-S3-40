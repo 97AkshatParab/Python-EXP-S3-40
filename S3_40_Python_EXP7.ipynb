{
  "nbformat": 4,
  "nbformat_minor": 0,
  "metadata": {
    "colab": {
      "provenance": []
    },
    "kernelspec": {
      "name": "python3",
      "display_name": "Python 3"
    },
    "language_info": {
      "name": "python"
    }
  },
  "cells": [
    {
      "cell_type": "code",
      "source": [
        "import sqlite3\n",
        "\n",
        "# Function to create a new database and table\n",
        "def create_table():\n",
        "    conn = sqlite3.connect(\"example.db\")\n",
        "    c = conn.cursor()\n",
        "    c.execute('''CREATE TABLE IF NOT EXISTS users\n",
        "                 (id INTEGER PRIMARY KEY, name TEXT, email TEXT)''')\n",
        "    conn.commit()\n",
        "    conn.close()\n",
        "\n",
        "# Function to insert data into the table\n",
        "def insert_data(name, email):\n",
        "    conn = sqlite3.connect(\"example.db\")\n",
        "    c = conn.cursor()\n",
        "    c.execute(\"INSERT INTO users (name, email) VALUES (?, ?)\", (name, email))\n",
        "    conn.commit()\n",
        "    conn.close()\n",
        "\n",
        "# Function to retrieve all data from the table\n",
        "def get_all_data():\n",
        "    conn = sqlite3.connect(\"example.db\")\n",
        "    c = conn.cursor()\n",
        "    c.execute(\"SELECT * FROM users\")\n",
        "    rows = c.fetchall()\n",
        "    conn.close()\n",
        "    return rows\n",
        "\n",
        "# Function to update data in the table\n",
        "def update_data(id, new_name, new_email):\n",
        "    conn = sqlite3.connect(\"example.db\")\n",
        "    c = conn.cursor()\n",
        "    c.execute(\"UPDATE users SET name=?, email=? WHERE id=?\", (new_name, new_email, id))\n",
        "    conn.commit()\n",
        "    conn.close()\n",
        "\n",
        "# Function to delete data from the table\n",
        "def delete_data(id):\n",
        "    conn = sqlite3.connect(\"example.db\")\n",
        "    c = conn.cursor()\n",
        "    c.execute(\"DELETE FROM users WHERE id=?\", (id,))\n",
        "    conn.commit()\n",
        "    conn.close()\n",
        "\n",
        "# Create the table if it doesn't exist\n",
        "create_table()\n",
        "\n",
        "# Insert data into the table\n",
        "insert_data(\"John Doe\", \"john.doe@example.com\")\n",
        "insert_data(\"Jane Smith\", \"jane.smith@example.com\")\n",
        "\n",
        "# Display all data from the table\n",
        "print(\"All Users:\")\n",
        "print(get_all_data())\n",
        "\n",
        "# Update data in the table\n",
        "update_data(1, \"John Smith\", \"john.smith@example.com\")\n",
        "\n",
        "# Display updated data\n",
        "print(\"\\nUpdated Users:\")\n",
        "print(get_all_data())\n",
        "\n",
        "# Delete data from the table\n",
        "delete_data(2)\n",
        "\n",
        "# Display data after deletion\n",
        "print(\"\\nUsers after Deletion:\")\n",
        "print(get_all_data())\n"
      ],
      "metadata": {
        "id": "XCzdYPLO9Qzk"
      },
      "execution_count": null,
      "outputs": []
    }
  ]
}