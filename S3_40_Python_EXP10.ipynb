{
  "nbformat": 4,
  "nbformat_minor": 0,
  "metadata": {
    "colab": {
      "provenance": []
    },
    "kernelspec": {
      "name": "python3",
      "display_name": "Python 3"
    },
    "language_info": {
      "name": "python"
    }
  },
  "cells": [
    {
      "cell_type": "code",
      "source": [
        "# Importing NumPy\n",
        "import numpy as np\n",
        "\n",
        "#Creating NumPy Array\n",
        "arr1 = np.array([1, 2, 3, 4, 5])\n",
        "zeros_arr = np.zeros(5)\n",
        "ones_arr = np.ones((3, 4))\n",
        "empty_arr = np.empty((2, 2))\n",
        "range_arr = np.arange(0, 10, 2)\n",
        "\n",
        "# Adding Attributes to the Array\n",
        "arr = np.array([[1, 2, 3], [4, 5, 6]])\n",
        "print(arr.shape)\n",
        "print(arr.dtype)\n",
        "print(arr.ndim)\n",
        "\n",
        "# Slicing & Indexing\n",
        "arr = np.array([1, 2, 3, 4, 5])\n",
        "print(arr[0])\n",
        "print(arr[1:4])\n",
        "\n",
        "# Basic Operations\n",
        "arr1 = np.array([1, 2, 3])\n",
        "arr2 = np.array([4, 5, 6])\n",
        "print(arr1 + arr2)\n",
        "print(arr1 * 2)\n",
        "\n",
        "#ufuncs\n",
        "arr = np.array([0, np.pi/2, np.pi])\n",
        "print(np.sin(arr))\n",
        "\n",
        "# Linear Algebra\n",
        "A = np.array([[1, 2], [3, 4]])\n",
        "B = np.array([[5, 6], [7, 8]])\n",
        "print(np.dot(A, B))  # Output: [[19, 22], [43, 50]] - Matrix multiplication\n"
      ],
      "metadata": {
        "colab": {
          "base_uri": "https://localhost:8080/"
        },
        "id": "XCzdYPLO9Qzk",
        "outputId": "8350e786-2410-406c-d060-35898c039fc4"
      },
      "execution_count": 12,
      "outputs": [
        {
          "output_type": "stream",
          "name": "stdout",
          "text": [
            "(2, 3)\n",
            "int64\n",
            "2\n",
            "1\n",
            "[2 3 4]\n",
            "[5 7 9]\n",
            "[2 4 6]\n",
            "[0.0000000e+00 1.0000000e+00 1.2246468e-16]\n",
            "[[19 22]\n",
            " [43 50]]\n"
          ]
        }
      ]
    },
    {
      "cell_type": "code",
      "source": [],
      "metadata": {
        "id": "1JrJL4oKICxN"
      },
      "execution_count": null,
      "outputs": []
    }
  ]
}