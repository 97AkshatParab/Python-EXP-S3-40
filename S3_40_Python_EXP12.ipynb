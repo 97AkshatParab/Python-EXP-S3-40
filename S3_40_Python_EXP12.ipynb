{
  "nbformat": 4,
  "nbformat_minor": 0,
  "metadata": {
    "colab": {
      "provenance": []
    },
    "kernelspec": {
      "name": "python3",
      "display_name": "Python 3"
    },
    "language_info": {
      "name": "python"
    }
  },
  "cells": [
    {
      "cell_type": "code",
      "source": [
        "import pandas as pd\n",
        "\n",
        "# Create a DataFrame from a dictionary\n",
        "data = {'Name': ['Alice', 'Bob', 'Charlie', 'David'],\n",
        "        'Age': [25, 30, 35, 40],\n",
        "        'City': ['New York', 'Los Angeles', 'Chicago', 'Houston']}\n",
        "df = pd.DataFrame(data)\n",
        "print(\"Original DataFrame:\")\n",
        "print(df)\n",
        "\n",
        "# Accessing columns and rows\n",
        "print(\"\\nName column:\")\n",
        "print(df['Name'])\n",
        "print(\"\\nFirst row:\")\n",
        "print(df.iloc[0])\n",
        "\n",
        "# Adding a new column\n",
        "df['Gender'] = ['Female', 'Male', 'Male', 'Male']\n",
        "print(\"\\nDataFrame after adding Gender column:\")\n",
        "print(df)\n",
        "\n",
        "# Filtering data\n",
        "filtered_df = df[df['Age'] > 30]\n",
        "print(\"\\nFiltered DataFrame (Age > 30):\")\n",
        "print(filtered_df)\n",
        "\n",
        "# Sorting data\n",
        "sorted_df = df.sort_values(by='Age', ascending=False)\n",
        "print(\"\\nSorted DataFrame (by Age descending):\")\n",
        "print(sorted_df)\n",
        "\n"
      ],
      "metadata": {
        "colab": {
          "base_uri": "https://localhost:8080/"
        },
        "id": "XCzdYPLO9Qzk",
        "outputId": "02feb474-9b99-4f5e-f5fe-86acb1f6842c"
      },
      "execution_count": 15,
      "outputs": [
        {
          "output_type": "stream",
          "name": "stdout",
          "text": [
            "Original DataFrame:\n",
            "      Name  Age         City\n",
            "0    Alice   25     New York\n",
            "1      Bob   30  Los Angeles\n",
            "2  Charlie   35      Chicago\n",
            "3    David   40      Houston\n",
            "\n",
            "Name column:\n",
            "0      Alice\n",
            "1        Bob\n",
            "2    Charlie\n",
            "3      David\n",
            "Name: Name, dtype: object\n",
            "\n",
            "First row:\n",
            "Name       Alice\n",
            "Age           25\n",
            "City    New York\n",
            "Name: 0, dtype: object\n",
            "\n",
            "DataFrame after adding Gender column:\n",
            "      Name  Age         City  Gender\n",
            "0    Alice   25     New York  Female\n",
            "1      Bob   30  Los Angeles    Male\n",
            "2  Charlie   35      Chicago    Male\n",
            "3    David   40      Houston    Male\n",
            "\n",
            "Filtered DataFrame (Age > 30):\n",
            "      Name  Age     City Gender\n",
            "2  Charlie   35  Chicago   Male\n",
            "3    David   40  Houston   Male\n",
            "\n",
            "Sorted DataFrame (by Age descending):\n",
            "      Name  Age         City  Gender\n",
            "3    David   40      Houston    Male\n",
            "2  Charlie   35      Chicago    Male\n",
            "1      Bob   30  Los Angeles    Male\n",
            "0    Alice   25     New York  Female\n"
          ]
        }
      ]
    },
    {
      "cell_type": "code",
      "source": [],
      "metadata": {
        "id": "1JrJL4oKICxN"
      },
      "execution_count": null,
      "outputs": []
    }
  ]
}