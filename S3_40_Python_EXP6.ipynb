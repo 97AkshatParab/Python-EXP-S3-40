{
  "nbformat": 4,
  "nbformat_minor": 0,
  "metadata": {
    "colab": {
      "provenance": []
    },
    "kernelspec": {
      "name": "python3",
      "display_name": "Python 3"
    },
    "language_info": {
      "name": "python"
    }
  },
  "cells": [
    {
      "cell_type": "code",
      "source": [
        "import tkinter as tk\n",
        "from tkinter import messagebox\n",
        "\n",
        "# Create the main window\n",
        "root = tk.Tk()\n",
        "root.title(\"GUI Example\")\n",
        "\n",
        "# Function to handle button click event\n",
        "def button_click():\n",
        "    name = name_entry.get()\n",
        "    gender = gender_var.get()\n",
        "    hobby = hobby_var.get()\n",
        "    message = f\"Name: {name}\\nGender: {gender}\\nHobby: {hobby}\"\n",
        "    messagebox.showinfo(\"User Information\", message)\n",
        "\n",
        "# Create labels\n",
        "name_label = tk.Label(root, text=\"Name:\")\n",
        "gender_label = tk.Label(root, text=\"Gender:\")\n",
        "hobby_label = tk.Label(root, text=\"Hobby:\")\n",
        "\n",
        "# Create textboxes\n",
        "name_entry = tk.Entry(root)\n",
        "\n",
        "# Create radio buttons\n",
        "gender_var = tk.StringVar()\n",
        "male_radio = tk.Radiobutton(root, text=\"Male\", variable=gender_var, value=\"Male\")\n",
        "female_radio = tk.Radiobutton(root, text=\"Female\", variable=gender_var, value=\"Female\")\n",
        "\n",
        "# Create checkboxes\n",
        "hobby_var = tk.StringVar()\n",
        "reading_check = tk.Checkbutton(root, text=\"Reading\", variable=hobby_var, onvalue=\"Reading\")\n",
        "travel_check = tk.Checkbutton(root, text=\"Traveling\", variable=hobby_var, onvalue=\"Traveling\")\n",
        "sports_check = tk.Checkbutton(root, text=\"Sports\", variable=hobby_var, onvalue=\"Sports\")\n",
        "\n",
        "# Create a button\n",
        "submit_button = tk.Button(root, text=\"Submit\", command=button_click)\n",
        "\n",
        "# Arrange widgets using grid layout\n",
        "name_label.grid(row=0, column=0, sticky=\"w\")\n",
        "name_entry.grid(row=0, column=1)\n",
        "gender_label.grid(row=1, column=0, sticky=\"w\")\n",
        "male_radio.grid(row=1, column=1, sticky=\"w\")\n",
        "female_radio.grid(row=1, column=2, sticky=\"w\")\n",
        "hobby_label.grid(row=2, column=0, sticky=\"w\")\n",
        "reading_check.grid(row=2, column=1, sticky=\"w\")\n",
        "travel_check.grid(row=2, column=2, sticky=\"w\")\n",
        "sports_check.grid(row=2, column=3, sticky=\"w\")\n",
        "submit_button.grid(row=3, columnspan=2)\n",
        "\n",
        "# Start the GUI event loop\n",
        "root.mainloop()\n"
      ],
      "metadata": {
        "id": "XCzdYPLO9Qzk"
      },
      "execution_count": null,
      "outputs": []
    }
  ]
}