{
  "nbformat": 4,
  "nbformat_minor": 0,
  "metadata": {
    "colab": {
      "provenance": []
    },
    "kernelspec": {
      "name": "python3",
      "display_name": "Python 3"
    },
    "language_info": {
      "name": "python"
    }
  },
  "cells": [
    {
      "cell_type": "code",
      "execution_count": 21,
      "metadata": {
        "colab": {
          "base_uri": "https://localhost:8080/"
        },
        "id": "fi_XwqCMFxEu",
        "outputId": "b9173f1f-0b3a-4404-c4be-f0fa30b785f7"
      },
      "outputs": [
        {
          "output_type": "stream",
          "name": "stdout",
          "text": [
            "180\n",
            "180\n",
            "60\n",
            "60\n",
            "60\n",
            "60\n",
            "60\n",
            "60\n"
          ]
        }
      ],
      "source": [
        "all_intakes=(180,180,60,60,60,60,60,60) #Tuple Example\n",
        "for count in all_intakes:\n",
        "  print(count)"
      ]
    },
    {
      "cell_type": "code",
      "source": [],
      "metadata": {
        "id": "sp2kONYOlXaZ"
      },
      "execution_count": null,
      "outputs": []
    }
  ]
}