{
  "nbformat": 4,
  "nbformat_minor": 0,
  "metadata": {
    "colab": {
      "provenance": []
    },
    "kernelspec": {
      "name": "python3",
      "display_name": "Python 3"
    },
    "language_info": {
      "name": "python"
    }
  },
  "cells": [
    {
      "cell_type": "code",
      "execution_count": 2,
      "metadata": {
        "colab": {
          "base_uri": "https://localhost:8080/"
        },
        "id": "fi_XwqCMFxEu",
        "outputId": "6c5fcf32-bae8-432e-ce34-a0bb9464abcd"
      },
      "outputs": [
        {
          "output_type": "stream",
          "name": "stdout",
          "text": [
            "8\n"
          ]
        }
      ],
      "source": [
        "def add_numbers(a, b):\n",
        "    return a + b\n",
        "\n",
        "# Using the function\n",
        "result = add_numbers(3, 5)\n",
        "print(result)\n"
      ]
    },
    {
      "cell_type": "code",
      "source": [
        "class Car:\n",
        "    def __init__(self, brand, model):\n",
        "        self.brand = brand\n",
        "        self.model = model\n",
        "my_car = Car(\"Toyota\", \"Corolla\")\n",
        "print(my_car.brand)\n",
        "print(my_car.model)"
      ],
      "metadata": {
        "id": "sp2kONYOlXaZ",
        "colab": {
          "base_uri": "https://localhost:8080/"
        },
        "outputId": "163cbaa2-cace-44bc-ba94-b4d2328fda0f"
      },
      "execution_count": 3,
      "outputs": [
        {
          "output_type": "stream",
          "name": "stdout",
          "text": [
            "Toyota\n",
            "Corolla\n"
          ]
        }
      ]
    }
  ]
}