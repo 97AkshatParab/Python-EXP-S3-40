{
  "nbformat": 4,
  "nbformat_minor": 0,
  "metadata": {
    "colab": {
      "provenance": []
    },
    "kernelspec": {
      "name": "python3",
      "display_name": "Python 3"
    },
    "language_info": {
      "name": "python"
    }
  },
  "cells": [
    {
      "cell_type": "code",
      "execution_count": 4,
      "metadata": {
        "colab": {
          "base_uri": "https://localhost:8080/"
        },
        "id": "fi_XwqCMFxEu",
        "outputId": "e2c0a614-c0f0-423a-c1e9-801dffc116d2"
      },
      "outputs": [
        {
          "output_type": "stream",
          "name": "stdout",
          "text": [
            "This is some new data.\n",
            "Appending more data.\n",
            "\n"
          ]
        }
      ],
      "source": [
        "file_name = \"my_file.txt\"\n",
        "with open(file_name, \"a\") as file:\n",
        "    file.write(\"This is some new data.\\n\")\n",
        "    file.write(\"Appending more data.\\n\")\n",
        "with open(file_name, \"r\") as file:\n",
        "    file_contents = file.read()\n",
        "print(file_contents)\n"
      ]
    }
  ]
}