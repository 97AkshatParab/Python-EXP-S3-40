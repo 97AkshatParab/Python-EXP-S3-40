{
  "nbformat": 4,
  "nbformat_minor": 0,
  "metadata": {
    "colab": {
      "provenance": []
    },
    "kernelspec": {
      "name": "python3",
      "display_name": "Python 3"
    },
    "language_info": {
      "name": "python"
    }
  },
  "cells": [
    {
      "cell_type": "code",
      "source": [
        "# Demonstration of threading\n",
        "import threading\n",
        "import time\n",
        "\n",
        "# Function to print a message\n",
        "def print_message(message, delay):\n",
        "    for _ in range(5):  # Print the message 5 times\n",
        "        time.sleep(delay)\n",
        "        print(message)\n",
        "\n",
        "# Create threads\n",
        "thread1 = threading.Thread(target=print_message, args=(\"Hello from Thread 1\", 1))\n",
        "thread2 = threading.Thread(target=print_message, args=(\"Hello from Thread 2\", 2))\n",
        "\n",
        "# Start threads\n",
        "thread1.start()\n",
        "thread2.start()\n",
        "\n",
        "# Wait for threads to finish\n",
        "thread1.join()\n",
        "thread2.join()\n",
        "\n",
        "print(\"Threads execution completed.\")\n"
      ],
      "metadata": {
        "colab": {
          "base_uri": "https://localhost:8080/"
        },
        "id": "XCzdYPLO9Qzk",
        "outputId": "395381d8-364a-4743-f31c-6cb17a08d9c8"
      },
      "execution_count": 10,
      "outputs": [
        {
          "output_type": "stream",
          "name": "stdout",
          "text": [
            "Hello from Thread 1\n",
            "Hello from Thread 1\n",
            "Hello from Thread 2\n",
            "Hello from Thread 1\n",
            "Hello from Thread 1\n",
            "Hello from Thread 2\n",
            "Hello from Thread 1\n",
            "Hello from Thread 2\n",
            "Hello from Thread 2\n",
            "Hello from Thread 2\n",
            "Threads execution completed.\n"
          ]
        }
      ]
    },
    {
      "cell_type": "code",
      "source": [],
      "metadata": {
        "id": "1JrJL4oKICxN"
      },
      "execution_count": null,
      "outputs": []
    }
  ]
}