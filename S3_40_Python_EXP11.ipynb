{
  "nbformat": 4,
  "nbformat_minor": 0,
  "metadata": {
    "colab": {
      "provenance": []
    },
    "kernelspec": {
      "name": "python3",
      "display_name": "Python 3"
    },
    "language_info": {
      "name": "python"
    }
  },
  "cells": [
    {
      "cell_type": "code",
      "source": [
        "import numpy as np\n",
        "\n",
        "# Create a NumPy array\n",
        "arr = np.array([1, 2, 3, 4, 5])\n",
        "print(\"Original Array:\", arr)\n",
        "\n",
        "# Accessing elements\n",
        "print(\"First element:\", arr[0])\n",
        "print(\"Last element:\", arr[-1])\n",
        "print(\"Slicing array:\", arr[1:4])\n",
        "\n",
        "# Changing elements\n",
        "arr[2] = 10\n",
        "print(\"Modified Array:\", arr)\n",
        "\n",
        "# Adding elements\n",
        "new_arr = np.append(arr, [6, 7, 8])\n",
        "print(\"Array after append:\", new_arr)\n",
        "\n",
        "# Removing elements\n",
        "removed_arr = np.delete(new_arr, [0, 3])\n",
        "print(\"Array after deletion:\", removed_arr)\n",
        "\n",
        "# Reshaping array\n",
        "reshaped_arr = removed_arr.reshape(2, 3)\n",
        "print(\"Reshaped Array:\")\n",
        "print(reshaped_arr)\n",
        "\n",
        "# Arithmetic operations\n",
        "addition_arr = reshaped_arr + 2\n",
        "print(\"Array after addition:\")\n",
        "print(addition_arr)\n",
        "\n",
        "# Element-wise multiplication\n",
        "multiply_arr = addition_arr * 3\n",
        "print(\"Array after multiplication:\")\n",
        "print(multiply_arr)\n",
        "\n",
        "# Matrix multiplication\n",
        "matrix1 = np.array([[1, 2], [3, 4]])\n",
        "matrix2 = np.array([[5, 6], [7, 8]])\n",
        "matrix_result = np.dot(matrix1, matrix2)\n",
        "print(\"Matrix multiplication result:\")\n",
        "print(matrix_result)\n"
      ],
      "metadata": {
        "colab": {
          "base_uri": "https://localhost:8080/"
        },
        "id": "XCzdYPLO9Qzk",
        "outputId": "9a515214-3828-488e-ba40-fdf4321710ba"
      },
      "execution_count": 13,
      "outputs": [
        {
          "output_type": "stream",
          "name": "stdout",
          "text": [
            "Original Array: [1 2 3 4 5]\n",
            "First element: 1\n",
            "Last element: 5\n",
            "Slicing array: [2 3 4]\n",
            "Modified Array: [ 1  2 10  4  5]\n",
            "Array after append: [ 1  2 10  4  5  6  7  8]\n",
            "Array after deletion: [ 2 10  5  6  7  8]\n",
            "Reshaped Array:\n",
            "[[ 2 10  5]\n",
            " [ 6  7  8]]\n",
            "Array after addition:\n",
            "[[ 4 12  7]\n",
            " [ 8  9 10]]\n",
            "Array after multiplication:\n",
            "[[12 36 21]\n",
            " [24 27 30]]\n",
            "Matrix multiplication result:\n",
            "[[19 22]\n",
            " [43 50]]\n"
          ]
        }
      ]
    },
    {
      "cell_type": "code",
      "source": [],
      "metadata": {
        "id": "1JrJL4oKICxN"
      },
      "execution_count": null,
      "outputs": []
    }
  ]
}