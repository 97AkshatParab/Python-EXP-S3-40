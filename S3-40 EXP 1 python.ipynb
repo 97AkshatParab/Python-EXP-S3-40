{
  "nbformat": 4,
  "nbformat_minor": 0,
  "metadata": {
    "colab": {
      "provenance": []
    },
    "kernelspec": {
      "name": "python3",
      "display_name": "Python 3"
    },
    "language_info": {
      "name": "python"
    }
  },
  "cells": [
    {
      "cell_type": "code",
      "execution_count": 1,
      "metadata": {
        "colab": {
          "base_uri": "https://localhost:8080/",
          "height": 0
        },
        "id": "fi_XwqCMFxEu",
        "outputId": "fa040036-71b6-4837-dd8c-82efd4988948"
      },
      "outputs": [
        {
          "output_type": "stream",
          "name": "stdout",
          "text": [
            "VIDYAVARDHINIS COLLEGE OF ENGINEERING & TECHNOLOGY\n",
            "A Brief Discription of VCET:\n",
            "My Branch is:Computer, Science, & Engineering,- Data Science\n",
            "There are total eight branches in VCET:\n",
            "['CSE_DS', 'COMPS', 'AI_DS', 'MECH', 'EXTC', 'CIVIL', 'IT', 'VLSI']\n",
            "\n",
            "\n",
            "All HODS of Branches are:\n",
            "{'CSE-DS': 'VIKAS GUPTA', 'COMPS': 'MEGHA maam', 'AI_DS': 'TATVADARSHI SIR', 'MECH': 'UDAY ASWALEKAR', 'EXTC': 'AMRITA RUPEREE'}\n",
            "No of Intakes of each branches are:-\n",
            "(180, 180, 60, 60, 60, 180, 180, 60, 60, 60)\n",
            "\n",
            "\n"
          ]
        },
        {
          "output_type": "execute_result",
          "data": {
            "text/plain": [
              "{'COMPS': 'MEGHA maam',\n",
              " 'AI_DS': 'TATVADARSHI SIR',\n",
              " 'MECH': 'UDAY ASWALEKAR',\n",
              " 'EXTC': 'AMRITA RUPEREE'}"
            ]
          },
          "metadata": {},
          "execution_count": 1
        }
      ],
      "source": [
        "vcet='VIDYAVARDHINIS COLLEGE OF ENGINEERING & TECHNOLOGY'\n",
        "print(vcet)\n",
        "my_department=\"Computer, Science, & Engineering,- Data Science\" #String Example\n",
        "all_branches=[\"CSE_DS\",\"COMPS\",\"AI_DS\",\"MECH\",\"EXTC\",\"CIVIL\",\"IT\",\"VLSI\"] #List Example\n",
        "all_HOD={\"CSE-DS\":\"VIKAS GUPTA\",\"COMPS\":\"MEGHA maam\",\"AI_DS\":\"TATVADARSHI SIR\",\"MECH\":\"UDAY ASWALEKAR\",\"EXTC\":\"AMRITA RUPEREE\"} #Dictionary Example\n",
        "all_intakes=(180,180,60,60,60,60,60,60) #Tuple Example\n",
        "print(\"A Brief Discription of VCET:\")\n",
        "print('''My Branch is:'''+my_department)\n",
        "print(\"There are total eight branches in VCET:\")\n",
        "print(all_branches)\n",
        "print(\"\\n\")\n",
        "print(\"All HODS of Branches are:\")\n",
        "print(all_HOD)\n",
        "print(\"No of Intakes of each branches are:-\")\n",
        "print(all_intakes[0:5]*2)\n",
        "all_branches.insert(2,\"Aerospace\")\n",
        "all_branches\n",
        "all_HOD.keys()\n",
        "print(\"\\n\")\n",
        "all_HOD.pop(\"CSE-DS\")\n",
        "all_HOD"
      ]
    }
  ]
}