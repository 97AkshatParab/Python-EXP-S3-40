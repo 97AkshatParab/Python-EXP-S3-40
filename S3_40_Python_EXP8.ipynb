{
  "nbformat": 4,
  "nbformat_minor": 0,
  "metadata": {
    "colab": {
      "provenance": []
    },
    "kernelspec": {
      "name": "python3",
      "display_name": "Python 3"
    },
    "language_info": {
      "name": "python"
    }
  },
  "cells": [
    {
      "cell_type": "code",
      "source": [
        "from django.db import models\n",
        "from django.contrib.auth.models import AbstractUser\n",
        "\n",
        "class CustomUser(AbstractUser):\n",
        "    pass\n",
        "\n",
        "#forms\n",
        "from django import forms\n",
        "from django.contrib.auth.forms import UserCreationForm\n",
        "from .models import CustomUser\n",
        "\n",
        "class UserRegistrationForm(UserCreationForm):\n",
        "    class Meta:\n",
        "        model = CustomUser\n",
        "        fields = ['username', 'email', 'password1', 'password2']\n",
        "\n",
        "class UserLoginForm(forms.Form):\n",
        "    username = forms.CharField()\n",
        "    password = forms.CharField(widget=forms.PasswordInput)\n",
        "\n",
        "#views\n",
        "from django.shortcuts import render, redirect\n",
        "from django.contrib.auth import authenticate, login\n",
        "from .forms import UserRegistrationForm, UserLoginForm\n",
        "\n",
        "def register(request):\n",
        "    if request.method == 'POST':\n",
        "        form = UserRegistrationForm(request.POST)\n",
        "        if form.is_valid():\n",
        "            form.save()\n",
        "            return redirect('login')\n",
        "    else:\n",
        "        form = UserRegistrationForm()\n",
        "    return render(request, 'registration/register.html', {'form': form})\n",
        "\n",
        "def user_login(request):\n",
        "    if request.method == 'POST':\n",
        "        form = UserLoginForm(request.POST)\n",
        "        if form.is_valid():\n",
        "            username = form.cleaned_data['username']\n",
        "            password = form.cleaned_data['password']\n",
        "            user = authenticate(request, username=username, password=password)\n",
        "            if user is not None:\n",
        "                login(request, user)\n",
        "                return redirect('home')  # Redirect to home page after login\n",
        "    else:\n",
        "        form = UserLoginForm()\n",
        "    return render(request, 'registration/login.html', {'form': form})\n",
        "\n",
        "#urls\n",
        "from django.urls import path\n",
        "from . import views\n",
        "\n",
        "urlpatterns = [\n",
        "    path('register/', views.register, name='register'),\n",
        "    path('login/', views.user_login, name='login'),\n",
        "]\n"
      ],
      "metadata": {
        "id": "XCzdYPLO9Qzk"
      },
      "execution_count": null,
      "outputs": []
    }
  ]
}